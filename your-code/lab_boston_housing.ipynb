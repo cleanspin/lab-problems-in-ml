{
 "cells": [
  {
   "cell_type": "markdown",
   "metadata": {},
   "source": [
    "# Understanding Over & Underfitting\n",
    "## Predicting Boston Housing Prices"
   ]
  },
  {
   "cell_type": "markdown",
   "metadata": {},
   "source": [
    "## Getting Started\n",
    "In this project, you will use the Boston Housing Prices dataset to build several models to predict the prices of homes with particular qualities from the suburbs of Boston, MA.\n",
    "We will build models with several different parameters, which will change the goodness of fit for each. "
   ]
  },
  {
   "cell_type": "code",
   "execution_count": 1,
   "metadata": {},
   "outputs": [],
   "source": [
    "import pandas as pd\n",
    "import numpy as np\n",
    "import seaborn as sns\n",
    "import matplotlib.pyplot as plt"
   ]
  },
  {
   "cell_type": "markdown",
   "metadata": {},
   "source": [
    "---\n",
    "## Data Exploration\n",
    "Since we want to predict the value of houses, the **target variable**, `'MEDV'`, will be the variable we seek to predict."
   ]
  },
  {
   "cell_type": "markdown",
   "metadata": {},
   "source": [
    "### Import and explore the data. Clean the data for outliers and missing values. "
   ]
  },
  {
   "cell_type": "code",
   "execution_count": 2,
   "metadata": {},
   "outputs": [],
   "source": [
    "boston = pd.read_csv('../data/boston_data.csv')"
   ]
  },
  {
   "cell_type": "markdown",
   "metadata": {},
   "source": [
    "### Next, we want to explore the data. Pick several varibables you think will be ost correlated with the prices of homes in Boston, and create plots that show the data dispersion as well as the regression line of best fit."
   ]
  },
  {
   "cell_type": "code",
   "execution_count": 3,
   "metadata": {},
   "outputs": [
    {
     "data": {
      "text/plain": [
       "crim       float64\n",
       "zn         float64\n",
       "indus      float64\n",
       "chas       float64\n",
       "nox        float64\n",
       "rm         float64\n",
       "age        float64\n",
       "dis        float64\n",
       "rad        float64\n",
       "tax        float64\n",
       "ptratio    float64\n",
       "black      float64\n",
       "lstat      float64\n",
       "medv       float64\n",
       "dtype: object"
      ]
     },
     "execution_count": 3,
     "metadata": {},
     "output_type": "execute_result"
    }
   ],
   "source": [
    "boston.dtypes"
   ]
  },
  {
   "cell_type": "code",
   "execution_count": 4,
   "metadata": {},
   "outputs": [
    {
     "data": {
      "text/html": [
       "<div>\n",
       "<style scoped>\n",
       "    .dataframe tbody tr th:only-of-type {\n",
       "        vertical-align: middle;\n",
       "    }\n",
       "\n",
       "    .dataframe tbody tr th {\n",
       "        vertical-align: top;\n",
       "    }\n",
       "\n",
       "    .dataframe thead th {\n",
       "        text-align: right;\n",
       "    }\n",
       "</style>\n",
       "<table border=\"1\" class=\"dataframe\">\n",
       "  <thead>\n",
       "    <tr style=\"text-align: right;\">\n",
       "      <th></th>\n",
       "      <th>crim</th>\n",
       "      <th>zn</th>\n",
       "      <th>indus</th>\n",
       "      <th>chas</th>\n",
       "      <th>nox</th>\n",
       "      <th>rm</th>\n",
       "      <th>age</th>\n",
       "      <th>dis</th>\n",
       "      <th>rad</th>\n",
       "      <th>tax</th>\n",
       "      <th>ptratio</th>\n",
       "      <th>black</th>\n",
       "      <th>lstat</th>\n",
       "      <th>medv</th>\n",
       "    </tr>\n",
       "  </thead>\n",
       "  <tbody>\n",
       "    <tr>\n",
       "      <td>crim</td>\n",
       "      <td>1.000000</td>\n",
       "      <td>-0.194770</td>\n",
       "      <td>0.404249</td>\n",
       "      <td>-0.060688</td>\n",
       "      <td>0.405290</td>\n",
       "      <td>-0.172226</td>\n",
       "      <td>0.349288</td>\n",
       "      <td>-0.376493</td>\n",
       "      <td>0.603044</td>\n",
       "      <td>0.565047</td>\n",
       "      <td>0.292092</td>\n",
       "      <td>-0.377436</td>\n",
       "      <td>0.428940</td>\n",
       "      <td>-0.400956</td>\n",
       "    </tr>\n",
       "    <tr>\n",
       "      <td>zn</td>\n",
       "      <td>-0.194770</td>\n",
       "      <td>1.000000</td>\n",
       "      <td>-0.532268</td>\n",
       "      <td>-0.037290</td>\n",
       "      <td>-0.497114</td>\n",
       "      <td>0.302404</td>\n",
       "      <td>-0.546587</td>\n",
       "      <td>0.659018</td>\n",
       "      <td>-0.311313</td>\n",
       "      <td>-0.289332</td>\n",
       "      <td>-0.371315</td>\n",
       "      <td>0.176350</td>\n",
       "      <td>-0.412075</td>\n",
       "      <td>0.355608</td>\n",
       "    </tr>\n",
       "    <tr>\n",
       "      <td>indus</td>\n",
       "      <td>0.404249</td>\n",
       "      <td>-0.532268</td>\n",
       "      <td>1.000000</td>\n",
       "      <td>0.059928</td>\n",
       "      <td>0.760913</td>\n",
       "      <td>-0.353589</td>\n",
       "      <td>0.630048</td>\n",
       "      <td>-0.702583</td>\n",
       "      <td>0.616375</td>\n",
       "      <td>0.722828</td>\n",
       "      <td>0.356549</td>\n",
       "      <td>-0.378189</td>\n",
       "      <td>0.608309</td>\n",
       "      <td>-0.501698</td>\n",
       "    </tr>\n",
       "    <tr>\n",
       "      <td>chas</td>\n",
       "      <td>-0.060688</td>\n",
       "      <td>-0.037290</td>\n",
       "      <td>0.059928</td>\n",
       "      <td>1.000000</td>\n",
       "      <td>0.100650</td>\n",
       "      <td>0.090146</td>\n",
       "      <td>0.084852</td>\n",
       "      <td>-0.103124</td>\n",
       "      <td>-0.022561</td>\n",
       "      <td>-0.043708</td>\n",
       "      <td>-0.121835</td>\n",
       "      <td>0.042580</td>\n",
       "      <td>-0.041061</td>\n",
       "      <td>0.141400</td>\n",
       "    </tr>\n",
       "    <tr>\n",
       "      <td>nox</td>\n",
       "      <td>0.405290</td>\n",
       "      <td>-0.497114</td>\n",
       "      <td>0.760913</td>\n",
       "      <td>0.100650</td>\n",
       "      <td>1.000000</td>\n",
       "      <td>-0.266114</td>\n",
       "      <td>0.728882</td>\n",
       "      <td>-0.762469</td>\n",
       "      <td>0.612115</td>\n",
       "      <td>0.660607</td>\n",
       "      <td>0.166715</td>\n",
       "      <td>-0.393876</td>\n",
       "      <td>0.587573</td>\n",
       "      <td>-0.439225</td>\n",
       "    </tr>\n",
       "    <tr>\n",
       "      <td>rm</td>\n",
       "      <td>-0.172226</td>\n",
       "      <td>0.302404</td>\n",
       "      <td>-0.353589</td>\n",
       "      <td>0.090146</td>\n",
       "      <td>-0.266114</td>\n",
       "      <td>1.000000</td>\n",
       "      <td>-0.210589</td>\n",
       "      <td>0.178700</td>\n",
       "      <td>-0.173222</td>\n",
       "      <td>-0.241733</td>\n",
       "      <td>-0.323330</td>\n",
       "      <td>0.128410</td>\n",
       "      <td>-0.578025</td>\n",
       "      <td>0.683541</td>\n",
       "    </tr>\n",
       "    <tr>\n",
       "      <td>age</td>\n",
       "      <td>0.349288</td>\n",
       "      <td>-0.546587</td>\n",
       "      <td>0.630048</td>\n",
       "      <td>0.084852</td>\n",
       "      <td>0.728882</td>\n",
       "      <td>-0.210589</td>\n",
       "      <td>1.000000</td>\n",
       "      <td>-0.734915</td>\n",
       "      <td>0.467341</td>\n",
       "      <td>0.503830</td>\n",
       "      <td>0.231820</td>\n",
       "      <td>-0.276469</td>\n",
       "      <td>0.602001</td>\n",
       "      <td>-0.390863</td>\n",
       "    </tr>\n",
       "    <tr>\n",
       "      <td>dis</td>\n",
       "      <td>-0.376493</td>\n",
       "      <td>0.659018</td>\n",
       "      <td>-0.702583</td>\n",
       "      <td>-0.103124</td>\n",
       "      <td>-0.762469</td>\n",
       "      <td>0.178700</td>\n",
       "      <td>-0.734915</td>\n",
       "      <td>1.000000</td>\n",
       "      <td>-0.503471</td>\n",
       "      <td>-0.526938</td>\n",
       "      <td>-0.206016</td>\n",
       "      <td>0.306445</td>\n",
       "      <td>-0.500912</td>\n",
       "      <td>0.264876</td>\n",
       "    </tr>\n",
       "    <tr>\n",
       "      <td>rad</td>\n",
       "      <td>0.603044</td>\n",
       "      <td>-0.311313</td>\n",
       "      <td>0.616375</td>\n",
       "      <td>-0.022561</td>\n",
       "      <td>0.612115</td>\n",
       "      <td>-0.173222</td>\n",
       "      <td>0.467341</td>\n",
       "      <td>-0.503471</td>\n",
       "      <td>1.000000</td>\n",
       "      <td>0.917344</td>\n",
       "      <td>0.487733</td>\n",
       "      <td>-0.468700</td>\n",
       "      <td>0.499279</td>\n",
       "      <td>-0.423508</td>\n",
       "    </tr>\n",
       "    <tr>\n",
       "      <td>tax</td>\n",
       "      <td>0.565047</td>\n",
       "      <td>-0.289332</td>\n",
       "      <td>0.722828</td>\n",
       "      <td>-0.043708</td>\n",
       "      <td>0.660607</td>\n",
       "      <td>-0.241733</td>\n",
       "      <td>0.503830</td>\n",
       "      <td>-0.526938</td>\n",
       "      <td>0.917344</td>\n",
       "      <td>1.000000</td>\n",
       "      <td>0.465997</td>\n",
       "      <td>-0.462250</td>\n",
       "      <td>0.542732</td>\n",
       "      <td>-0.495792</td>\n",
       "    </tr>\n",
       "    <tr>\n",
       "      <td>ptratio</td>\n",
       "      <td>0.292092</td>\n",
       "      <td>-0.371315</td>\n",
       "      <td>0.356549</td>\n",
       "      <td>-0.121835</td>\n",
       "      <td>0.166715</td>\n",
       "      <td>-0.323330</td>\n",
       "      <td>0.231820</td>\n",
       "      <td>-0.206016</td>\n",
       "      <td>0.487733</td>\n",
       "      <td>0.465997</td>\n",
       "      <td>1.000000</td>\n",
       "      <td>-0.194891</td>\n",
       "      <td>0.351408</td>\n",
       "      <td>-0.506313</td>\n",
       "    </tr>\n",
       "    <tr>\n",
       "      <td>black</td>\n",
       "      <td>-0.377436</td>\n",
       "      <td>0.176350</td>\n",
       "      <td>-0.378189</td>\n",
       "      <td>0.042580</td>\n",
       "      <td>-0.393876</td>\n",
       "      <td>0.128410</td>\n",
       "      <td>-0.276469</td>\n",
       "      <td>0.306445</td>\n",
       "      <td>-0.468700</td>\n",
       "      <td>-0.462250</td>\n",
       "      <td>-0.194891</td>\n",
       "      <td>1.000000</td>\n",
       "      <td>-0.388913</td>\n",
       "      <td>0.360071</td>\n",
       "    </tr>\n",
       "    <tr>\n",
       "      <td>lstat</td>\n",
       "      <td>0.428940</td>\n",
       "      <td>-0.412075</td>\n",
       "      <td>0.608309</td>\n",
       "      <td>-0.041061</td>\n",
       "      <td>0.587573</td>\n",
       "      <td>-0.578025</td>\n",
       "      <td>0.602001</td>\n",
       "      <td>-0.500912</td>\n",
       "      <td>0.499279</td>\n",
       "      <td>0.542732</td>\n",
       "      <td>0.351408</td>\n",
       "      <td>-0.388913</td>\n",
       "      <td>1.000000</td>\n",
       "      <td>-0.742695</td>\n",
       "    </tr>\n",
       "    <tr>\n",
       "      <td>medv</td>\n",
       "      <td>-0.400956</td>\n",
       "      <td>0.355608</td>\n",
       "      <td>-0.501698</td>\n",
       "      <td>0.141400</td>\n",
       "      <td>-0.439225</td>\n",
       "      <td>0.683541</td>\n",
       "      <td>-0.390863</td>\n",
       "      <td>0.264876</td>\n",
       "      <td>-0.423508</td>\n",
       "      <td>-0.495792</td>\n",
       "      <td>-0.506313</td>\n",
       "      <td>0.360071</td>\n",
       "      <td>-0.742695</td>\n",
       "      <td>1.000000</td>\n",
       "    </tr>\n",
       "  </tbody>\n",
       "</table>\n",
       "</div>"
      ],
      "text/plain": [
       "             crim        zn     indus      chas       nox        rm       age  \\\n",
       "crim     1.000000 -0.194770  0.404249 -0.060688  0.405290 -0.172226  0.349288   \n",
       "zn      -0.194770  1.000000 -0.532268 -0.037290 -0.497114  0.302404 -0.546587   \n",
       "indus    0.404249 -0.532268  1.000000  0.059928  0.760913 -0.353589  0.630048   \n",
       "chas    -0.060688 -0.037290  0.059928  1.000000  0.100650  0.090146  0.084852   \n",
       "nox      0.405290 -0.497114  0.760913  0.100650  1.000000 -0.266114  0.728882   \n",
       "rm      -0.172226  0.302404 -0.353589  0.090146 -0.266114  1.000000 -0.210589   \n",
       "age      0.349288 -0.546587  0.630048  0.084852  0.728882 -0.210589  1.000000   \n",
       "dis     -0.376493  0.659018 -0.702583 -0.103124 -0.762469  0.178700 -0.734915   \n",
       "rad      0.603044 -0.311313  0.616375 -0.022561  0.612115 -0.173222  0.467341   \n",
       "tax      0.565047 -0.289332  0.722828 -0.043708  0.660607 -0.241733  0.503830   \n",
       "ptratio  0.292092 -0.371315  0.356549 -0.121835  0.166715 -0.323330  0.231820   \n",
       "black   -0.377436  0.176350 -0.378189  0.042580 -0.393876  0.128410 -0.276469   \n",
       "lstat    0.428940 -0.412075  0.608309 -0.041061  0.587573 -0.578025  0.602001   \n",
       "medv    -0.400956  0.355608 -0.501698  0.141400 -0.439225  0.683541 -0.390863   \n",
       "\n",
       "              dis       rad       tax   ptratio     black     lstat      medv  \n",
       "crim    -0.376493  0.603044  0.565047  0.292092 -0.377436  0.428940 -0.400956  \n",
       "zn       0.659018 -0.311313 -0.289332 -0.371315  0.176350 -0.412075  0.355608  \n",
       "indus   -0.702583  0.616375  0.722828  0.356549 -0.378189  0.608309 -0.501698  \n",
       "chas    -0.103124 -0.022561 -0.043708 -0.121835  0.042580 -0.041061  0.141400  \n",
       "nox     -0.762469  0.612115  0.660607  0.166715 -0.393876  0.587573 -0.439225  \n",
       "rm       0.178700 -0.173222 -0.241733 -0.323330  0.128410 -0.578025  0.683541  \n",
       "age     -0.734915  0.467341  0.503830  0.231820 -0.276469  0.602001 -0.390863  \n",
       "dis      1.000000 -0.503471 -0.526938 -0.206016  0.306445 -0.500912  0.264876  \n",
       "rad     -0.503471  1.000000  0.917344  0.487733 -0.468700  0.499279 -0.423508  \n",
       "tax     -0.526938  0.917344  1.000000  0.465997 -0.462250  0.542732 -0.495792  \n",
       "ptratio -0.206016  0.487733  0.465997  1.000000 -0.194891  0.351408 -0.506313  \n",
       "black    0.306445 -0.468700 -0.462250 -0.194891  1.000000 -0.388913  0.360071  \n",
       "lstat   -0.500912  0.499279  0.542732  0.351408 -0.388913  1.000000 -0.742695  \n",
       "medv     0.264876 -0.423508 -0.495792 -0.506313  0.360071 -0.742695  1.000000  "
      ]
     },
     "execution_count": 4,
     "metadata": {},
     "output_type": "execute_result"
    }
   ],
   "source": [
    "boston.corr()"
   ]
  },
  {
   "cell_type": "code",
   "execution_count": 5,
   "metadata": {},
   "outputs": [
    {
     "data": {
      "text/plain": [
       "<matplotlib.axes._subplots.AxesSubplot at 0x7f4650d38dd0>"
      ]
     },
     "execution_count": 5,
     "metadata": {},
     "output_type": "execute_result"
    },
    {
     "data": {
      "image/png": "[encoded data removed]",
      "text/plain": [
       "<Figure size 792x648 with 2 Axes>"
      ]
     },
     "metadata": {},
     "output_type": "display_data"
    }
   ],
   "source": [
    "sns.set(style=\"white\")\n",
    "\n",
    "# Compute the correlation matrix\n",
    "corr = abs(boston.corr())\n",
    "\n",
    "# Generate a mask for the upper triangle\n",
    "mask = np.triu(np.ones_like(corr, dtype=np.bool))\n",
    "\n",
    "# Set up the matplotlib figure\n",
    "f, ax = plt.subplots(figsize=(11, 9))\n",
    "\n",
    "# Generate a custom diverging colormap\n",
    "cmap = sns.diverging_palette(220, 10, as_cmap=True)\n",
    "\n",
    "# Draw the heatmap with the mask and correct aspect ratio\n",
    "sns.heatmap(corr, mask=mask, cmap=cmap, vmax=1, center=0,\n",
    "            square=True, linewidths=.5, cbar_kws={\"shrink\": .5})"
   ]
  },
  {
   "cell_type": "code",
   "execution_count": 6,
   "metadata": {},
   "outputs": [],
   "source": [
    "## i'd love to know what these variables mean"
   ]
  },
  {
   "cell_type": "code",
   "execution_count": 7,
   "metadata": {},
   "outputs": [
    {
     "data": {
      "text/plain": [
       "88.9762"
      ]
     },
     "execution_count": 7,
     "metadata": {},
     "output_type": "execute_result"
    }
   ],
   "source": [
    "boston.crim.max()"
   ]
  },
  {
   "cell_type": "code",
   "execution_count": 8,
   "metadata": {},
   "outputs": [
    {
     "data": {
      "text/plain": [
       "0.00632"
      ]
     },
     "execution_count": 8,
     "metadata": {},
     "output_type": "execute_result"
    }
   ],
   "source": [
    "boston.crim.min()\n",
    "\n",
    "## some measurement of absolute crimes?"
   ]
  },
  {
   "cell_type": "code",
   "execution_count": 9,
   "metadata": {},
   "outputs": [
    {
     "data": {
      "text/plain": [
       "count    404.000000\n",
       "mean     355.068243\n",
       "std       94.489572\n",
       "min        0.320000\n",
       "25%      374.710000\n",
       "50%      391.065000\n",
       "75%      396.007500\n",
       "max      396.900000\n",
       "Name: black, dtype: float64"
      ]
     },
     "execution_count": 9,
     "metadata": {},
     "output_type": "execute_result"
    }
   ],
   "source": [
    "boston.black.describe()\n",
    "## what the hell is this? Louisiana?"
   ]
  },
  {
   "cell_type": "code",
   "execution_count": 10,
   "metadata": {},
   "outputs": [],
   "source": [
    "from sklearn.datasets import load_boston"
   ]
  },
  {
   "cell_type": "code",
   "execution_count": 11,
   "metadata": {},
   "outputs": [],
   "source": [
    "boston_sk = load_boston()"
   ]
  },
  {
   "cell_type": "code",
   "execution_count": 12,
   "metadata": {},
   "outputs": [
    {
     "name": "stdout",
     "output_type": "stream",
     "text": [
      ".. _boston_dataset:\n",
      "\n",
      "Boston house prices dataset\n",
      "---------------------------\n",
      "\n",
      "**Data Set Characteristics:**  \n",
      "\n",
      "    :Number of Instances: 506 \n",
      "\n",
      "    :Number of Attributes: 13 numeric/categorical predictive. Median Value (attribute 14) is usually the target.\n",
      "\n",
      "    :Attribute Information (in order):\n",
      "        - CRIM     per capita crime rate by town\n",
      "        - ZN       proportion of residential land zoned for lots over 25,000 sq.ft.\n",
      "        - INDUS    proportion of non-retail business acres per town\n",
      "        - CHAS     Charles River dummy variable (= 1 if tract bounds river; 0 otherwise)\n",
      "        - NOX      nitric oxides concentration (parts per 10 million)\n",
      "        - RM       average number of rooms per dwelling\n",
      "        - AGE      proportion of owner-occupied units built prior to 1940\n",
      "        - DIS      weighted distances to five Boston employment centres\n",
      "        - RAD      index of accessibility to radial highways\n",
      "        - TAX      full-value property-tax rate per $10,000\n",
      "        - PTRATIO  pupil-teacher ratio by town\n",
      "        - B        1000(Bk - 0.63)^2 where Bk is the proportion of blacks by town\n",
      "        - LSTAT    % lower status of the population\n",
      "        - MEDV     Median value of owner-occupied homes in $1000's\n",
      "\n",
      "    :Missing Attribute Values: None\n",
      "\n",
      "    :Creator: Harrison, D. and Rubinfeld, D.L.\n",
      "\n",
      "This is a copy of UCI ML housing dataset.\n",
      "https://archive.ics.uci.edu/ml/machine-learning-databases/housing/\n",
      "\n",
      "\n",
      "This dataset was taken from the StatLib library which is maintained at Carnegie Mellon University.\n",
      "\n",
      "The Boston house-price data of Harrison, D. and Rubinfeld, D.L. 'Hedonic\n",
      "prices and the demand for clean air', J. Environ. Economics & Management,\n",
      "vol.5, 81-102, 1978.   Used in Belsley, Kuh & Welsch, 'Regression diagnostics\n",
      "...', Wiley, 1980.   N.B. Various transformations are used in the table on\n",
      "pages 244-261 of the latter.\n",
      "\n",
      "The Boston house-price data has been used in many machine learning papers that address regression\n",
      "problems.   \n",
      "     \n",
      ".. topic:: References\n",
      "\n",
      "   - Belsley, Kuh & Welsch, 'Regression diagnostics: Identifying Influential Data and Sources of Collinearity', Wiley, 1980. 244-261.\n",
      "   - Quinlan,R. (1993). Combining Instance-Based and Model-Based Learning. In Proceedings on the Tenth International Conference of Machine Learning, 236-243, University of Massachusetts, Amherst. Morgan Kaufmann.\n",
      "\n"
     ]
    }
   ],
   "source": [
    "print(boston_sk.DESCR)"
   ]
  },
  {
   "cell_type": "markdown",
   "metadata": {},
   "source": [
    "    :Attribute Information (in order):\n",
    "        - CRIM     per capita crime rate by town\n",
    "        - ZN       proportion of residential land zoned for lots over 25,000 sq.ft.\n",
    "        - INDUS    proportion of non-retail business acres per town\n",
    "        - CHAS     Charles River dummy variable (= 1 if tract bounds river; 0 otherwise)\n",
    "        - NOX      nitric oxides concentration (parts per 10 million)\n",
    "        - RM       average number of rooms per dwelling\n",
    "        - AGE      proportion of owner-occupied units built prior to 1940\n",
    "        - DIS      weighted distances to five Boston employment centres\n",
    "        - RAD      index of accessibility to radial highways\n",
    "        - TAX      full-value property-tax rate per $10,000\n",
    "        - PTRATIO  pupil-teacher ratio by town\n",
    "        - B        1000(Bk - 0.63)^2 where Bk is the proportion of blacks by town\n",
    "        - LSTAT    % lower status of the population\n",
    "        - MEDV     Median value of owner-occupied homes in $1000's"
   ]
  },
  {
   "cell_type": "code",
   "execution_count": 13,
   "metadata": {},
   "outputs": [],
   "source": [
    "## Now i understand what the vars mean\n"
   ]
  },
  {
   "cell_type": "code",
   "execution_count": 14,
   "metadata": {},
   "outputs": [
    {
     "data": {
      "image/png": "[encoded data removed]",
      "text/plain": [
       "<Figure size 432x288 with 1 Axes>"
      ]
     },
     "metadata": {},
     "output_type": "display_data"
    },
    {
     "data": {
      "image/png": "[encoded data removed]",
      "text/plain": [
       "<Figure size 432x288 with 1 Axes>"
      ]
     },
     "metadata": {},
     "output_type": "display_data"
    },
    {
     "data": {
      "image/png": "[encoded data removed]",
      "text/plain": [
       "<Figure size 432x288 with 1 Axes>"
      ]
     },
     "metadata": {},
     "output_type": "display_data"
    },
    {
     "data": {
      "image/png": "[encoded data removed]",
      "text/plain": [
       "<Figure size 432x288 with 1 Axes>"
      ]
     },
     "metadata": {},
     "output_type": "display_data"
    },
    {
     "data": {
      "image/png": "[encoded data removed]",
      "text/plain": [
       "<Figure size 432x288 with 1 Axes>"
      ]
     },
     "metadata": {},
     "output_type": "display_data"
    },
    {
     "data": {
      "image/png": "[encoded data removed]",
      "text/plain": [
       "<Figure size 432x288 with 1 Axes>"
      ]
     },
     "metadata": {},
     "output_type": "display_data"
    },
    {
     "data": {
      "image/png": "[encoded data removed]",
      "text/plain": [
       "<Figure size 432x288 with 1 Axes>"
      ]
     },
     "metadata": {},
     "output_type": "display_data"
    },
    {
     "data": {
      "image/png": "[encoded data removed]",
      "text/plain": [
       "<Figure size 432x288 with 1 Axes>"
      ]
     },
     "metadata": {},
     "output_type": "display_data"
    },
    {
     "data": {
      "image/png": "[encoded data removed]",
      "text/plain": [
       "<Figure size 432x288 with 1 Axes>"
      ]
     },
     "metadata": {},
     "output_type": "display_data"
    },
    {
     "data": {
      "image/png": "[encoded data removed]",
      "text/plain": [
       "<Figure size 432x288 with 1 Axes>"
      ]
     },
     "metadata": {},
     "output_type": "display_data"
    },
    {
     "data": {
      "image/png": "[encoded data removed]",
      "text/plain": [
       "<Figure size 432x288 with 1 Axes>"
      ]
     },
     "metadata": {},
     "output_type": "display_data"
    },
    {
     "data": {
      "image/png": "[encoded data removed]",
      "text/plain": [
       "<Figure size 432x288 with 1 Axes>"
      ]
     },
     "metadata": {},
     "output_type": "display_data"
    },
    {
     "data": {
      "image/png": "[encoded data removed]",
      "text/plain": [
       "<Figure size 432x288 with 1 Axes>"
      ]
     },
     "metadata": {},
     "output_type": "display_data"
    },
    {
     "data": {
      "image/png": "[encoded data removed]",
      "text/plain": [
       "<Figure size 432x288 with 1 Axes>"
      ]
     },
     "metadata": {},
     "output_type": "display_data"
    }
   ],
   "source": [
    "for x in boston.columns:\n",
    "    plt.figure()\n",
    "    plt.title('medv and ' + str(x))\n",
    "    plt.scatter(boston.crim, boston[str(x)])"
   ]
  },
  {
   "cell_type": "markdown",
   "metadata": {},
   "source": [
    "### What do these plots tell you about the relationships between these variables and the prices of homes in Boston? Are these the relationships you expected to see in these variables?"
   ]
  },
  {
   "cell_type": "code",
   "execution_count": 15,
   "metadata": {},
   "outputs": [],
   "source": [
    "# Your response here\n",
    "## sometimes it looks like there is some relationship, but it's honestly hard to tell with plots"
   ]
  },
  {
   "cell_type": "markdown",
   "metadata": {},
   "source": [
    "### Make a heatmap of the remaining variables. Are there any variables that you did not consider that have very high correlations? What are they?"
   ]
  },
  {
   "cell_type": "code",
   "execution_count": 16,
   "metadata": {},
   "outputs": [
    {
     "data": {
      "text/html": [
       "<div>\n",
       "<style scoped>\n",
       "    .dataframe tbody tr th:only-of-type {\n",
       "        vertical-align: middle;\n",
       "    }\n",
       "\n",
       "    .dataframe tbody tr th {\n",
       "        vertical-align: top;\n",
       "    }\n",
       "\n",
       "    .dataframe thead th {\n",
       "        text-align: right;\n",
       "    }\n",
       "</style>\n",
       "<table border=\"1\" class=\"dataframe\">\n",
       "  <thead>\n",
       "    <tr style=\"text-align: right;\">\n",
       "      <th></th>\n",
       "      <th>crim</th>\n",
       "      <th>zn</th>\n",
       "      <th>indus</th>\n",
       "      <th>chas</th>\n",
       "      <th>nox</th>\n",
       "      <th>rm</th>\n",
       "      <th>age</th>\n",
       "      <th>dis</th>\n",
       "      <th>rad</th>\n",
       "      <th>tax</th>\n",
       "      <th>ptratio</th>\n",
       "      <th>black</th>\n",
       "      <th>lstat</th>\n",
       "      <th>medv</th>\n",
       "    </tr>\n",
       "  </thead>\n",
       "  <tbody>\n",
       "    <tr>\n",
       "      <td>crim</td>\n",
       "      <td>1.0</td>\n",
       "      <td></td>\n",
       "      <td></td>\n",
       "      <td></td>\n",
       "      <td></td>\n",
       "      <td></td>\n",
       "      <td></td>\n",
       "      <td></td>\n",
       "      <td></td>\n",
       "      <td></td>\n",
       "      <td></td>\n",
       "      <td></td>\n",
       "      <td></td>\n",
       "      <td></td>\n",
       "    </tr>\n",
       "    <tr>\n",
       "      <td>zn</td>\n",
       "      <td></td>\n",
       "      <td>1.0</td>\n",
       "      <td></td>\n",
       "      <td></td>\n",
       "      <td></td>\n",
       "      <td></td>\n",
       "      <td></td>\n",
       "      <td></td>\n",
       "      <td></td>\n",
       "      <td></td>\n",
       "      <td></td>\n",
       "      <td></td>\n",
       "      <td></td>\n",
       "      <td></td>\n",
       "    </tr>\n",
       "    <tr>\n",
       "      <td>indus</td>\n",
       "      <td></td>\n",
       "      <td></td>\n",
       "      <td>1.0</td>\n",
       "      <td></td>\n",
       "      <td>0.7609129297893401</td>\n",
       "      <td></td>\n",
       "      <td></td>\n",
       "      <td>0.7025830488289212</td>\n",
       "      <td></td>\n",
       "      <td>0.7228281958626024</td>\n",
       "      <td></td>\n",
       "      <td></td>\n",
       "      <td></td>\n",
       "      <td></td>\n",
       "    </tr>\n",
       "    <tr>\n",
       "      <td>chas</td>\n",
       "      <td></td>\n",
       "      <td></td>\n",
       "      <td></td>\n",
       "      <td>1.0</td>\n",
       "      <td></td>\n",
       "      <td></td>\n",
       "      <td></td>\n",
       "      <td></td>\n",
       "      <td></td>\n",
       "      <td></td>\n",
       "      <td></td>\n",
       "      <td></td>\n",
       "      <td></td>\n",
       "      <td></td>\n",
       "    </tr>\n",
       "    <tr>\n",
       "      <td>nox</td>\n",
       "      <td></td>\n",
       "      <td></td>\n",
       "      <td>0.7609129297893401</td>\n",
       "      <td></td>\n",
       "      <td>1.0</td>\n",
       "      <td></td>\n",
       "      <td>0.7288815791460436</td>\n",
       "      <td>0.7624687149352145</td>\n",
       "      <td></td>\n",
       "      <td></td>\n",
       "      <td></td>\n",
       "      <td></td>\n",
       "      <td></td>\n",
       "      <td></td>\n",
       "    </tr>\n",
       "    <tr>\n",
       "      <td>rm</td>\n",
       "      <td></td>\n",
       "      <td></td>\n",
       "      <td></td>\n",
       "      <td></td>\n",
       "      <td></td>\n",
       "      <td>1.0</td>\n",
       "      <td></td>\n",
       "      <td></td>\n",
       "      <td></td>\n",
       "      <td></td>\n",
       "      <td></td>\n",
       "      <td></td>\n",
       "      <td></td>\n",
       "      <td></td>\n",
       "    </tr>\n",
       "    <tr>\n",
       "      <td>age</td>\n",
       "      <td></td>\n",
       "      <td></td>\n",
       "      <td></td>\n",
       "      <td></td>\n",
       "      <td>0.7288815791460436</td>\n",
       "      <td></td>\n",
       "      <td>1.0</td>\n",
       "      <td>0.7349147816466174</td>\n",
       "      <td></td>\n",
       "      <td></td>\n",
       "      <td></td>\n",
       "      <td></td>\n",
       "      <td></td>\n",
       "      <td></td>\n",
       "    </tr>\n",
       "    <tr>\n",
       "      <td>dis</td>\n",
       "      <td></td>\n",
       "      <td></td>\n",
       "      <td>0.7025830488289212</td>\n",
       "      <td></td>\n",
       "      <td>0.7624687149352145</td>\n",
       "      <td></td>\n",
       "      <td>0.7349147816466174</td>\n",
       "      <td>1.0</td>\n",
       "      <td></td>\n",
       "      <td></td>\n",
       "      <td></td>\n",
       "      <td></td>\n",
       "      <td></td>\n",
       "      <td></td>\n",
       "    </tr>\n",
       "    <tr>\n",
       "      <td>rad</td>\n",
       "      <td></td>\n",
       "      <td></td>\n",
       "      <td></td>\n",
       "      <td></td>\n",
       "      <td></td>\n",
       "      <td></td>\n",
       "      <td></td>\n",
       "      <td></td>\n",
       "      <td>1.0</td>\n",
       "      <td>0.917344002849744</td>\n",
       "      <td></td>\n",
       "      <td></td>\n",
       "      <td></td>\n",
       "      <td></td>\n",
       "    </tr>\n",
       "    <tr>\n",
       "      <td>tax</td>\n",
       "      <td></td>\n",
       "      <td></td>\n",
       "      <td>0.7228281958626024</td>\n",
       "      <td></td>\n",
       "      <td></td>\n",
       "      <td></td>\n",
       "      <td></td>\n",
       "      <td></td>\n",
       "      <td>0.917344002849744</td>\n",
       "      <td>1.0</td>\n",
       "      <td></td>\n",
       "      <td></td>\n",
       "      <td></td>\n",
       "      <td></td>\n",
       "    </tr>\n",
       "    <tr>\n",
       "      <td>ptratio</td>\n",
       "      <td></td>\n",
       "      <td></td>\n",
       "      <td></td>\n",
       "      <td></td>\n",
       "      <td></td>\n",
       "      <td></td>\n",
       "      <td></td>\n",
       "      <td></td>\n",
       "      <td></td>\n",
       "      <td></td>\n",
       "      <td>1.0</td>\n",
       "      <td></td>\n",
       "      <td></td>\n",
       "      <td></td>\n",
       "    </tr>\n",
       "    <tr>\n",
       "      <td>black</td>\n",
       "      <td></td>\n",
       "      <td></td>\n",
       "      <td></td>\n",
       "      <td></td>\n",
       "      <td></td>\n",
       "      <td></td>\n",
       "      <td></td>\n",
       "      <td></td>\n",
       "      <td></td>\n",
       "      <td></td>\n",
       "      <td></td>\n",
       "      <td>1.0</td>\n",
       "      <td></td>\n",
       "      <td></td>\n",
       "    </tr>\n",
       "    <tr>\n",
       "      <td>lstat</td>\n",
       "      <td></td>\n",
       "      <td></td>\n",
       "      <td></td>\n",
       "      <td></td>\n",
       "      <td></td>\n",
       "      <td></td>\n",
       "      <td></td>\n",
       "      <td></td>\n",
       "      <td></td>\n",
       "      <td></td>\n",
       "      <td></td>\n",
       "      <td></td>\n",
       "      <td>1.0</td>\n",
       "      <td>0.7426954940642156</td>\n",
       "    </tr>\n",
       "    <tr>\n",
       "      <td>medv</td>\n",
       "      <td></td>\n",
       "      <td></td>\n",
       "      <td></td>\n",
       "      <td></td>\n",
       "      <td></td>\n",
       "      <td></td>\n",
       "      <td></td>\n",
       "      <td></td>\n",
       "      <td></td>\n",
       "      <td></td>\n",
       "      <td></td>\n",
       "      <td></td>\n",
       "      <td>0.7426954940642156</td>\n",
       "      <td>1.0</td>\n",
       "    </tr>\n",
       "  </tbody>\n",
       "</table>\n",
       "</div>"
      ],
      "text/plain": [
       "        crim   zn               indus chas                 nox   rm  \\\n",
       "crim     1.0                                                          \n",
       "zn            1.0                                                     \n",
       "indus                             1.0       0.7609129297893401        \n",
       "chas                                   1.0                            \n",
       "nox                0.7609129297893401                      1.0        \n",
       "rm                                                              1.0   \n",
       "age                                         0.7288815791460436        \n",
       "dis                0.7025830488289212       0.7624687149352145        \n",
       "rad                                                                   \n",
       "tax                0.7228281958626024                                 \n",
       "ptratio                                                               \n",
       "black                                                                 \n",
       "lstat                                                                 \n",
       "medv                                                                  \n",
       "\n",
       "                        age                 dis                rad  \\\n",
       "crim                                                                 \n",
       "zn                                                                   \n",
       "indus                        0.7025830488289212                      \n",
       "chas                                                                 \n",
       "nox      0.7288815791460436  0.7624687149352145                      \n",
       "rm                                                                   \n",
       "age                     1.0  0.7349147816466174                      \n",
       "dis      0.7349147816466174                 1.0                      \n",
       "rad                                                            1.0   \n",
       "tax                                              0.917344002849744   \n",
       "ptratio                                                              \n",
       "black                                                                \n",
       "lstat                                                                \n",
       "medv                                                                 \n",
       "\n",
       "                        tax ptratio black               lstat  \\\n",
       "crim                                                            \n",
       "zn                                                              \n",
       "indus    0.7228281958626024                                     \n",
       "chas                                                            \n",
       "nox                                                             \n",
       "rm                                                              \n",
       "age                                                             \n",
       "dis                                                             \n",
       "rad       0.917344002849744                                     \n",
       "tax                     1.0                                     \n",
       "ptratio                         1.0                             \n",
       "black                                 1.0                       \n",
       "lstat                                                     1.0   \n",
       "medv                                       0.7426954940642156   \n",
       "\n",
       "                       medv  \n",
       "crim                         \n",
       "zn                           \n",
       "indus                        \n",
       "chas                         \n",
       "nox                          \n",
       "rm                           \n",
       "age                          \n",
       "dis                          \n",
       "rad                          \n",
       "tax                          \n",
       "ptratio                      \n",
       "black                        \n",
       "lstat    0.7426954940642156  \n",
       "medv                    1.0  "
      ]
     },
     "execution_count": 16,
     "metadata": {},
     "output_type": "execute_result"
    }
   ],
   "source": [
    "# Your response here\n",
    "##did that above, going to consider high corr a value above .7\n",
    "for x in corr.columns:\n",
    "    corr[str(x)] = np.where(corr[str(x)] <= 0.7, '', corr[str(x)])\n",
    "corr\n",
    "\n",
    "## looks like there are high correlations between proportion of non-retail business acres per town with nitric oxides concentration (parts per 10 million)\n",
    "##, weighted distances to five Boston employment centres and full-value property-tax rate per $10,000, nox with age and dis and age and dis"
   ]
  },
  {
   "cell_type": "markdown",
   "metadata": {},
   "source": [
    "### Calculate Statistics\n",
    "Calculate descriptive statistics for housing price. Include the minimum, maximum, mean, median, and standard deviation. "
   ]
  },
  {
   "cell_type": "code",
   "execution_count": 17,
   "metadata": {},
   "outputs": [
    {
     "data": {
      "text/plain": [
       "count    404.000000\n",
       "mean      22.312376\n",
       "std        8.837019\n",
       "min        5.000000\n",
       "25%       17.100000\n",
       "50%       21.400000\n",
       "75%       25.000000\n",
       "max       50.000000\n",
       "Name: medv, dtype: float64"
      ]
     },
     "execution_count": 17,
     "metadata": {},
     "output_type": "execute_result"
    }
   ],
   "source": [
    "boston.medv.describe()"
   ]
  },
  {
   "cell_type": "markdown",
   "metadata": {},
   "source": [
    "----\n",
    "\n",
    "## Developing a Model"
   ]
  },
  {
   "cell_type": "markdown",
   "metadata": {},
   "source": [
    "### Implementation: Define a Performance Metric\n",
    "What is the performance meteric with which you will determine the performance of your model? Create a function that calculates this performance metric, and then returns the score. "
   ]
  },
  {
   "cell_type": "code",
   "execution_count": 18,
   "metadata": {},
   "outputs": [],
   "source": [
    "from sklearn.metrics import r2_score\n",
    "from sklearn.metrics import mean_squared_error\n",
    "\n",
    "\n",
    "def performance_metric(y_true, y_predict):\n",
    "    \"\"\" why am i creating a function to run other function?\"\"\"\n",
    "    return r2_score(y_true, y_predict), mean_squared_error(y_true, y_predict)"
   ]
  },
  {
   "cell_type": "markdown",
   "metadata": {},
   "source": [
    "### Implementation: Shuffle and Split Data\n",
    "Split the data into the testing and training datasets. Shuffle the data as well to remove any bias in selecting the traing and test. "
   ]
  },
  {
   "cell_type": "code",
   "execution_count": 19,
   "metadata": {},
   "outputs": [],
   "source": [
    "from sklearn.model_selection import train_test_split\n"
   ]
  },
  {
   "cell_type": "code",
   "execution_count": 20,
   "metadata": {},
   "outputs": [],
   "source": [
    "X = boston\n",
    "y = boston.pop('medv')"
   ]
  },
  {
   "cell_type": "code",
   "execution_count": 21,
   "metadata": {},
   "outputs": [
    {
     "data": {
      "text/plain": [
       "0      21.7\n",
       "1      19.6\n",
       "2      20.3\n",
       "3      15.4\n",
       "4      20.5\n",
       "       ... \n",
       "399    14.1\n",
       "400    15.0\n",
       "401    50.0\n",
       "402    24.7\n",
       "403    23.7\n",
       "Name: medv, Length: 404, dtype: float64"
      ]
     },
     "execution_count": 21,
     "metadata": {},
     "output_type": "execute_result"
    }
   ],
   "source": [
    "y"
   ]
  },
  {
   "cell_type": "code",
   "execution_count": 22,
   "metadata": {},
   "outputs": [],
   "source": [
    "X_train, X_test, y_train, y_test = train_test_split(X, y, test_size = 0.2)"
   ]
  },
  {
   "cell_type": "markdown",
   "metadata": {},
   "source": [
    "----\n",
    "\n",
    "## Analyzing Model Performance\n",
    "Next, we are going to build a Random Forest Regressor, and test its performance with several different parameter settings."
   ]
  },
  {
   "cell_type": "markdown",
   "metadata": {},
   "source": [
    "### Learning Curves\n",
    "Lets build the different models. Set the max_depth parameter to 2, 4, 6, 8, and 10 respectively. "
   ]
  },
  {
   "cell_type": "code",
   "execution_count": 23,
   "metadata": {},
   "outputs": [],
   "source": [
    "depths = [i for i in range(1, 10+1) if i%2 == 0]\n",
    "# Five separate RFR here with the given max depths\n",
    "from sklearn.ensemble import RandomForestRegressor\n",
    "models = [RandomForestRegressor(max_depth=i, n_estimators=10, random_state=54654).fit(X_train, y_train) for i in depths]"
   ]
  },
  {
   "cell_type": "markdown",
   "metadata": {},
   "source": [
    "Now, plot the score for each tree on the training set and on the testing set."
   ]
  },
  {
   "cell_type": "code",
   "execution_count": 24,
   "metadata": {},
   "outputs": [
    {
     "data": {
      "text/plain": [
       "array([13.9019998 , 14.59061885, 20.41954223, 26.43138412, 24.99732162,\n",
       "       15.15557868, 21.21530716, 40.77543885, 21.21530716, 31.94859506,\n",
       "       43.47271563, 31.07594453, 15.21357604, 32.95666359, 21.21530716,\n",
       "       20.41954223, 26.43138412, 32.95666359, 24.99732162, 15.21357604,\n",
       "       24.99732162, 15.21357604, 14.59061885, 15.84419773, 22.69899936,\n",
       "       16.64492457, 21.21530716, 23.72121937, 20.41954223, 16.07996473,\n",
       "       21.21530716, 21.21530716, 34.38175643, 13.9019998 , 13.9019998 ,\n",
       "       32.95666359, 24.3887865 , 24.3887865 , 43.47271563, 20.41954223,\n",
       "       24.3887865 , 40.77543885, 13.9019998 , 43.47271563, 13.9019998 ,\n",
       "       14.52495699, 24.99732162, 24.99732162, 24.99732162, 14.52495699,\n",
       "       26.11709899, 24.99732162, 31.68447965, 24.99732162, 16.07996473,\n",
       "       35.00931181, 24.3887865 , 24.3887865 , 24.99732162, 24.99732162,\n",
       "       15.29133894, 17.33354362, 20.41954223, 24.99732162, 20.41954223,\n",
       "       13.9019998 , 24.3887865 , 14.53262149, 19.78892054, 20.41954223,\n",
       "       24.99732162, 43.47271563, 21.21530716, 21.21530716, 17.33354362,\n",
       "       43.47271563, 30.98310998, 18.29957465, 16.07996473, 15.15557868,\n",
       "       24.99732162])"
      ]
     },
     "execution_count": 24,
     "metadata": {},
     "output_type": "execute_result"
    }
   ],
   "source": [
    "test = RandomForestRegressor(max_depth=2, n_estimators=10, random_state=24).fit(X_train, y_train)\n",
    "test.predict(X_test)"
   ]
  },
  {
   "cell_type": "code",
   "execution_count": 25,
   "metadata": {
    "scrolled": false
   },
   "outputs": [
    {
     "data": {
      "image/png": "[encoded data removed]",
      "text/plain": [
       "<Figure size 864x432 with 2 Axes>"
      ]
     },
     "metadata": {},
     "output_type": "display_data"
    }
   ],
   "source": [
    "# Produce a plot with the score for the testing and training for the different max depths\n",
    "\n",
    "y_pred = [m.predict(X_test) for m in models]\n",
    "fig, axs = plt.subplots(1, 2, figsize=(12, 6))\n",
    "\n",
    "axs[0].scatter(depths, [performance_metric(y_test, p)[0] for p in y_pred])\n",
    "axs[0].set_title(\"R2 score\")\n",
    "axs[0].set_xlabel(\"MAX_depth\")\n",
    "\n",
    "axs[1].scatter(depths, [performance_metric(y_test, p)[1] for p in y_pred])\n",
    "axs[1].set_title(\"mean_**2_errors score\")\n",
    "axs[1].set_xlabel(\"MAX_depth\")\n",
    "\n",
    "plt.show()"
   ]
  },
  {
   "cell_type": "markdown",
   "metadata": {},
   "source": [
    "What do these results tell you about the effect of the depth of the trees on the performance of the model?"
   ]
  },
  {
   "cell_type": "code",
   "execution_count": 40,
   "metadata": {},
   "outputs": [],
   "source": [
    "# Your response here\n",
    "\n",
    "## looks like model performance is increasing up to a max depth of 6. after that it barely improves anything"
   ]
  },
  {
   "cell_type": "markdown",
   "metadata": {},
   "source": [
    "### Bias-Variance Tradeoff\n",
    "When the model is trained with a maximum depth of 1, does the model suffer from high bias or from high variance? How about when the model is trained with a maximum depth of 10?"
   ]
  },
  {
   "cell_type": "code",
   "execution_count": 41,
   "metadata": {},
   "outputs": [
    {
     "data": {
      "text/plain": [
       "(0.5799295139090159, 42.09529222259632)"
      ]
     },
     "execution_count": 41,
     "metadata": {},
     "output_type": "execute_result"
    }
   ],
   "source": [
    "# Your response here\n",
    "badbadmodel = RandomForestRegressor(max_depth=1, n_estimators=10, random_state=24).fit(X_train, y_train)\n",
    "badbadpredict = badbadmodel.predict(X_test)\n",
    "performance_metric(y_test, badbadpredict)\n",
    "\n",
    "## it's a bad bad model with too high variance and a miserable capacity to predict, as indicated by the high MSE and low R2 score respective"
   ]
  },
  {
   "cell_type": "markdown",
   "metadata": {},
   "source": [
    "### Best-Guess Optimal Model\n",
    "What is the max_depth parameter that you think would optimize the model? Run your model and explain its performance."
   ]
  },
  {
   "cell_type": "code",
   "execution_count": 34,
   "metadata": {},
   "outputs": [],
   "source": [
    "# Five separate RFR here with the given max depths\n",
    "models = [RandomForestRegressor(max_depth=i, n_estimators=20, random_state=54654).fit(X_train, y_train) for i in range(1, 14)]"
   ]
  },
  {
   "cell_type": "code",
   "execution_count": 37,
   "metadata": {},
   "outputs": [
    {
     "data": {
      "image/png": "[encoded data removed]",
      "text/plain": [
       "<Figure size 864x432 with 2 Axes>"
      ]
     },
     "metadata": {},
     "output_type": "display_data"
    }
   ],
   "source": [
    "y_pred = [m.predict(X_test) for m in models]\n",
    "fig, axs = plt.subplots(1, 2, figsize=(12, 6))\n",
    "axs[0].scatter([i for i in range(1, 14)], [performance_metric(y_test, p)[0] for p in y_pred])\n",
    "axs[0].set_title(\"R2 score\")\n",
    "axs[0].set_xlabel(\"MAX_depth\")\n",
    "\n",
    "axs[1].scatter([i for i in range(1, 14)], [performance_metric(y_test, p)[1] for p in y_pred])\n",
    "axs[1].set_title(\"mean_**2_errors score\")\n",
    "axs[1].set_xlabel(\"MAX_depth\")\n",
    "\n",
    "plt.show()"
   ]
  },
  {
   "cell_type": "code",
   "execution_count": 39,
   "metadata": {},
   "outputs": [
    {
     "data": {
      "image/png": "[encoded data removed]",
      "text/plain": [
       "<Figure size 864x432 with 1 Axes>"
      ]
     },
     "metadata": {},
     "output_type": "display_data"
    }
   ],
   "source": [
    "y_pred = [m.predict(X_test) for m in models]\n",
    "fig, axs = plt.subplots(1, 1, figsize=(12, 6))\n",
    "axs.plot([i for i in range(1, 14)], [performance_metric(y_test, p)[0] for p in y_pred], color = 'red')\n",
    "axs.set_title(\"R2 score\")\n",
    "axs.set_xlabel(\"MAX_depth\")\n",
    "\n",
    "axs.plot([i for i in range(1, 14)], [performance_metric(y_test, p)[1] for p in y_pred])\n",
    "axs.set_title(\"mean_**2_errors score\")\n",
    "axs.set_xlabel(\"MAX_depth\")\n",
    "\n",
    "plt.show()"
   ]
  },
  {
   "cell_type": "code",
   "execution_count": 42,
   "metadata": {},
   "outputs": [],
   "source": [
    "## I'm actually not entirely sure if I'm interpreting this correctly, but i feel like the point where max depth starts hitting a plateau is ~4"
   ]
  },
  {
   "cell_type": "markdown",
   "metadata": {},
   "source": [
    "### Applicability\n",
    "*In a few sentences, discuss whether the constructed model should or should not be used in a real-world setting.*  \n",
    "**Hint:** Some questions to answering:\n",
    "- *How relevant today is data that was collected from 1978?*\n",
    "- *Are the features present in the data sufficient to describe a home?*\n",
    "- *Is the model robust enough to make consistent predictions?*\n",
    "- *Would data collected in an urban city like Boston be applicable in a rural city?*"
   ]
  },
  {
   "cell_type": "code",
   "execution_count": 43,
   "metadata": {},
   "outputs": [],
   "source": [
    "'''perhapes the model could be useful if we found a way to travel back in time.\n",
    "\n",
    "there is no way that the determinants of price for a house in 2020 are the same as in 1978\n",
    "\n",
    "the features present in the data seem to be able to describe a house price quite well ~85% of the variance explained by the model, but I guess being \n",
    "wrong by up to 15% is a very big margin of error for a house price. I find it incredible that there is no\n",
    "square meters in our model O.o probably there's some proxy for it but oh well. idk\n",
    "\n",
    "the question about the model being robust enough to make predictions actually depends on what you're comparing it to.\n",
    "\n",
    "it's better than me at predicting house prices for Boston in 1978, so I'd use this model instead of my own hunches,\n",
    "or as we say it in Portuguese, my 'postas de pescada'. But if you're giving it an adversary such as a 1978 Real \n",
    "Estate Agent from Boston, it would probably underperform...\n",
    "\n",
    "No. Boston Data works for boston, a rural city will absolutely have different determinators of price. If it's in the\n",
    "US i'm willing to put my money down that the ratio of black people in the neighborhood will be much more negatively\n",
    "correlated with house price. #MAGAHATS #REDNECKS'''"
   ]
  }
 ],
 "metadata": {
  "anaconda-cloud": {},
  "kernelspec": {
   "display_name": "Python 3",
   "language": "python",
   "name": "python3"
  },
  "language_info": {
   "codemirror_mode": {
    "name": "ipython",
    "version": 3
   },
   "file_extension": ".py",
   "mimetype": "text/x-python",
   "name": "python",
   "nbconvert_exporter": "python",
   "pygments_lexer": "ipython3",
   "version": "3.7.4"
  }
 },
 "nbformat": 4,
 "nbformat_minor": 1
}
